{
 "cells": [
  {
   "cell_type": "code",
   "execution_count": 10,
   "metadata": {},
   "outputs": [
    {
     "ename": "",
     "evalue": "",
     "output_type": "error",
     "traceback": [
      "\u001b[1;31mThe Kernel crashed while executing code in the the current cell or a previous cell. Please review the code in the cell(s) to identify a possible cause of the failure. Click <a href='https://aka.ms/vscodeJupyterKernelCrash'>here</a> for more info. View Jupyter <a href='command:jupyter.viewOutput'>log</a> for further details."
     ]
    }
   ],
   "source": [
    "import subprocess\n",
    "\n",
    "def set_volume(volume):\n",
    "    # Use AppleScript to set the system volumek\n",
    "    applescript = f\"\"\"\n",
    "    set volume output volume {volume}\n",
    "    \"\"\"\n",
    "\n",
    "    # Execute the AppleScript using subprocess\n",
    "    subprocess.run([\"osascript\", \"-e\", applescript])\n",
    "\n",
    "# Set the volume to 50% (adjust the value as needed)\n",
    "set_volume(0)"
   ]
  },
  {
   "cell_type": "code",
   "execution_count": 33,
   "metadata": {},
   "outputs": [],
   "source": [
    "import subprocess\n",
    "\n",
    "def simulate_media_pause():\n",
    "    # Send a keyboard shortcut to pause media playback\n",
    "    subprocess.run([\"osascript\", \"-e\", \"tell application \\\"System Events\\\" to key code 49 using {command down, option down, control down}\"])\n",
    "\n",
    "# Simulate the \"pause\" action\n",
    "simulate_media_pause()"
   ]
  },
  {
   "cell_type": "code",
   "execution_count": 29,
   "metadata": {},
   "outputs": [],
   "source": [
    "def toggle_spotify_playback():\n",
    "    # AppleScript to toggle Spotify playback\n",
    "    applescript = \"\"\"\n",
    "    tell application \"Spotify\"\n",
    "        if it is running then\n",
    "            if player state is playing then\n",
    "                pause\n",
    "            else\n",
    "                play\n",
    "            end if\n",
    "        end if\n",
    "    end tell\n",
    "    \"\"\"\n",
    "\n",
    "    # Execute the AppleScript using subprocess\n",
    "    subprocess.run([\"osascript\", \"-e\", applescript])"
   ]
  },
  {
   "cell_type": "code",
   "execution_count": 32,
   "metadata": {},
   "outputs": [],
   "source": [
    "toggle_spotify_playback()"
   ]
  },
  {
   "cell_type": "code",
   "execution_count": 39,
   "metadata": {},
   "outputs": [],
   "source": [
    "def toggle_chrome_media_playback():\n",
    "    # JavaScript code to pause/play media in Chrome\n",
    "    javascript_code = '''\n",
    "    var videos = document.querySelectorAll(\"video\");\n",
    "    for (var i = 0; i < videos.length; i++) {\n",
    "        if (!videos[i].paused) {\n",
    "            videos[i].pause();\n",
    "        } else {\n",
    "            videos[i].play();\n",
    "        }\n",
    "    }\n",
    "    '''\n",
    "\n",
    "    # AppleScript to execute JavaScript code in Chrome\n",
    "    applescript = f'''\n",
    "    tell application \"Google Chrome\"\n",
    "        execute front window's active tab javascript \"{javascript_code}\"\n",
    "    end tell\n",
    "    '''\n",
    "\n",
    "    # Execute the AppleScript using subprocess\n",
    "    subprocess.run([\"osascript\", \"-e\", applescript])"
   ]
  },
  {
   "cell_type": "code",
   "execution_count": 40,
   "metadata": {},
   "outputs": [
    {
     "name": "stderr",
     "output_type": "stream",
     "text": [
      "137:142: syntax error: Expected end of line but found identifier. (-2741)\n"
     ]
    }
   ],
   "source": [
    "toggle_chrome_media_playback()"
   ]
  },
  {
   "cell_type": "code",
   "execution_count": 41,
   "metadata": {},
   "outputs": [
    {
     "name": "stderr",
     "output_type": "stream",
     "text": [
      "95:554: execution error: Google Chrome got an error: Executing JavaScript through AppleScript is turned off. To turn it on, from the menu bar, go to View > Developer > Allow JavaScript from Apple Events. For more information: https://support.google.com/chrome/?p=applescript (12)\n"
     ]
    }
   ],
   "source": [
    "def toggle_chrome_media_playback():\n",
    "    # AppleScript to toggle media playback in Chrome using 'do JavaScript'\n",
    "    applescript = \"\"\"\n",
    "    tell application \"Google Chrome\"\n",
    "        set theTab to active tab of first window\n",
    "        execute theTab javascript \"var videos = document.querySelectorAll('video');\n",
    "                                  for (var i = 0; i < videos.length; i++) {\n",
    "                                      if (!videos[i].paused) {\n",
    "                                          videos[i].pause();\n",
    "                                      } else {\n",
    "                                          videos[i].play();\n",
    "                                      }\n",
    "                                  }\"\n",
    "    end tell\n",
    "    \"\"\"\n",
    "\n",
    "    # Execute the AppleScript using subprocess\n",
    "    subprocess.run([\"osascript\", \"-e\", applescript])\n",
    "\n",
    "# Toggle media playback in Google Chrome\n",
    "toggle_chrome_media_playback()"
   ]
  },
  {
   "cell_type": "code",
   "execution_count": 9,
   "metadata": {},
   "outputs": [],
   "source": [
    "import pyautogui"
   ]
  },
  {
   "cell_type": "code",
   "execution_count": 10,
   "metadata": {},
   "outputs": [
    {
     "data": {
      "text/plain": [
       "['\\t',\n",
       " '\\n',\n",
       " '\\r',\n",
       " ' ',\n",
       " '!',\n",
       " '\"',\n",
       " '#',\n",
       " '$',\n",
       " '%',\n",
       " '&',\n",
       " \"'\",\n",
       " '(',\n",
       " ')',\n",
       " '*',\n",
       " '+',\n",
       " ',',\n",
       " '-',\n",
       " '.',\n",
       " '/',\n",
       " '0',\n",
       " '1',\n",
       " '2',\n",
       " '3',\n",
       " '4',\n",
       " '5',\n",
       " '6',\n",
       " '7',\n",
       " '8',\n",
       " '9',\n",
       " ':',\n",
       " ';',\n",
       " '<',\n",
       " '=',\n",
       " '>',\n",
       " '?',\n",
       " '@',\n",
       " '[',\n",
       " '\\\\',\n",
       " ']',\n",
       " '^',\n",
       " '_',\n",
       " '`',\n",
       " 'a',\n",
       " 'b',\n",
       " 'c',\n",
       " 'd',\n",
       " 'e',\n",
       " 'f',\n",
       " 'g',\n",
       " 'h',\n",
       " 'i',\n",
       " 'j',\n",
       " 'k',\n",
       " 'l',\n",
       " 'm',\n",
       " 'n',\n",
       " 'o',\n",
       " 'p',\n",
       " 'q',\n",
       " 'r',\n",
       " 's',\n",
       " 't',\n",
       " 'u',\n",
       " 'v',\n",
       " 'w',\n",
       " 'x',\n",
       " 'y',\n",
       " 'z',\n",
       " '{',\n",
       " '|',\n",
       " '}',\n",
       " '~',\n",
       " 'accept',\n",
       " 'add',\n",
       " 'alt',\n",
       " 'altleft',\n",
       " 'altright',\n",
       " 'apps',\n",
       " 'backspace',\n",
       " 'browserback',\n",
       " 'browserfavorites',\n",
       " 'browserforward',\n",
       " 'browserhome',\n",
       " 'browserrefresh',\n",
       " 'browsersearch',\n",
       " 'browserstop',\n",
       " 'capslock',\n",
       " 'clear',\n",
       " 'convert',\n",
       " 'ctrl',\n",
       " 'ctrlleft',\n",
       " 'ctrlright',\n",
       " 'decimal',\n",
       " 'del',\n",
       " 'delete',\n",
       " 'divide',\n",
       " 'down',\n",
       " 'end',\n",
       " 'enter',\n",
       " 'esc',\n",
       " 'escape',\n",
       " 'execute',\n",
       " 'f1',\n",
       " 'f10',\n",
       " 'f11',\n",
       " 'f12',\n",
       " 'f13',\n",
       " 'f14',\n",
       " 'f15',\n",
       " 'f16',\n",
       " 'f17',\n",
       " 'f18',\n",
       " 'f19',\n",
       " 'f2',\n",
       " 'f20',\n",
       " 'f21',\n",
       " 'f22',\n",
       " 'f23',\n",
       " 'f24',\n",
       " 'f3',\n",
       " 'f4',\n",
       " 'f5',\n",
       " 'f6',\n",
       " 'f7',\n",
       " 'f8',\n",
       " 'f9',\n",
       " 'final',\n",
       " 'fn',\n",
       " 'hanguel',\n",
       " 'hangul',\n",
       " 'hanja',\n",
       " 'help',\n",
       " 'home',\n",
       " 'insert',\n",
       " 'junja',\n",
       " 'kana',\n",
       " 'kanji',\n",
       " 'launchapp1',\n",
       " 'launchapp2',\n",
       " 'launchmail',\n",
       " 'launchmediaselect',\n",
       " 'left',\n",
       " 'modechange',\n",
       " 'multiply',\n",
       " 'nexttrack',\n",
       " 'nonconvert',\n",
       " 'num0',\n",
       " 'num1',\n",
       " 'num2',\n",
       " 'num3',\n",
       " 'num4',\n",
       " 'num5',\n",
       " 'num6',\n",
       " 'num7',\n",
       " 'num8',\n",
       " 'num9',\n",
       " 'numlock',\n",
       " 'pagedown',\n",
       " 'pageup',\n",
       " 'pause',\n",
       " 'pgdn',\n",
       " 'pgup',\n",
       " 'playpause',\n",
       " 'prevtrack',\n",
       " 'print',\n",
       " 'printscreen',\n",
       " 'prntscrn',\n",
       " 'prtsc',\n",
       " 'prtscr',\n",
       " 'return',\n",
       " 'right',\n",
       " 'scrolllock',\n",
       " 'select',\n",
       " 'separator',\n",
       " 'shift',\n",
       " 'shiftleft',\n",
       " 'shiftright',\n",
       " 'sleep',\n",
       " 'space',\n",
       " 'stop',\n",
       " 'subtract',\n",
       " 'tab',\n",
       " 'up',\n",
       " 'volumedown',\n",
       " 'volumemute',\n",
       " 'volumeup',\n",
       " 'win',\n",
       " 'winleft',\n",
       " 'winright',\n",
       " 'yen',\n",
       " 'command',\n",
       " 'option',\n",
       " 'optionleft',\n",
       " 'optionright']"
      ]
     },
     "execution_count": 10,
     "metadata": {},
     "output_type": "execute_result"
    }
   ],
   "source": [
    "pyautogui.KEY_NAMES"
   ]
  },
  {
   "cell_type": "code",
   "execution_count": 29,
   "metadata": {},
   "outputs": [],
   "source": [
    "pyautogui.press(\"esc\")"
   ]
  },
  {
   "cell_type": "code",
   "execution_count": 42,
   "metadata": {},
   "outputs": [],
   "source": [
    "pyautogui.hotkey('fn', 'f8')  # ctrl-c to copy"
   ]
  },
  {
   "cell_type": "code",
   "execution_count": 48,
   "metadata": {},
   "outputs": [],
   "source": [
    "pyautogui.press(\"volumeup\")"
   ]
  },
  {
   "cell_type": "code",
   "execution_count": 49,
   "metadata": {},
   "outputs": [
    {
     "data": {
      "text/plain": [
       "Size(width=1710, height=1107)"
      ]
     },
     "execution_count": 49,
     "metadata": {},
     "output_type": "execute_result"
    }
   ],
   "source": [
    "pyautogui.size()"
   ]
  },
  {
   "cell_type": "code",
   "execution_count": 51,
   "metadata": {},
   "outputs": [
    {
     "data": {
      "text/plain": [
       "Point(x=1604, y=985)"
      ]
     },
     "execution_count": 51,
     "metadata": {},
     "output_type": "execute_result"
    }
   ],
   "source": [
    "pyautogui.position()"
   ]
  },
  {
   "cell_type": "code",
   "execution_count": 54,
   "metadata": {},
   "outputs": [],
   "source": [
    "pyautogui.moveTo(100,100,3)"
   ]
  },
  {
   "cell_type": "code",
   "execution_count": null,
   "metadata": {},
   "outputs": [],
   "source": [
    "pyautogui.press(\"C\")"
   ]
  },
  {
   "cell_type": "code",
   "execution_count": 1,
   "metadata": {},
   "outputs": [],
   "source": [
    "import time"
   ]
  },
  {
   "cell_type": "code",
   "execution_count": 56,
   "metadata": {},
   "outputs": [],
   "source": [
    "time.sleep(3)\n",
    "pyautogui.write(\"hello\")"
   ]
  },
  {
   "cell_type": "code",
   "execution_count": 57,
   "metadata": {},
   "outputs": [],
   "source": [
    "def simulate_play_pause():\n",
    "    # Simulate pressing the spacebar key\n",
    "    pyautogui.press('space')\n",
    "\n",
    "# Simulate pressing the \"play/pause\" button\n",
    "simulate_play_pause()"
   ]
  },
  {
   "cell_type": "code",
   "execution_count": 1,
   "metadata": {},
   "outputs": [
    {
     "ename": "",
     "evalue": "",
     "output_type": "error",
     "traceback": [
      "\u001b[1;31mThe Kernel crashed while executing code in the the current cell or a previous cell. Please review the code in the cell(s) to identify a possible cause of the failure. Click <a href='https://aka.ms/vscodeJupyterKernelCrash'>here</a> for more info. View Jupyter <a href='command:jupyter.viewOutput'>log</a> for further details."
     ]
    }
   ],
   "source": [
    "import keyboard\n",
    "\n",
    "def simulate_play_pause():\n",
    "    # Simulate pressing the \"play/pause\" key\n",
    "    keyboard.press_and_release('play_pause')\n",
    "\n",
    "# Simulate pressing the \"play/pause\" button\n",
    "simulate_play_pause()"
   ]
  },
  {
   "cell_type": "code",
   "execution_count": 1,
   "metadata": {},
   "outputs": [],
   "source": [
    "import pyautogui\n"
   ]
  },
  {
   "cell_type": "code",
   "execution_count": 21,
   "metadata": {},
   "outputs": [
    {
     "data": {
      "text/plain": [
       "['\\t',\n",
       " '\\n',\n",
       " '\\r',\n",
       " ' ',\n",
       " '!',\n",
       " '\"',\n",
       " '#',\n",
       " '$',\n",
       " '%',\n",
       " '&',\n",
       " \"'\",\n",
       " '(',\n",
       " ')',\n",
       " '*',\n",
       " '+',\n",
       " ',',\n",
       " '-',\n",
       " '.',\n",
       " '/',\n",
       " '0',\n",
       " '1',\n",
       " '2',\n",
       " '3',\n",
       " '4',\n",
       " '5',\n",
       " '6',\n",
       " '7',\n",
       " '8',\n",
       " '9',\n",
       " ':',\n",
       " ';',\n",
       " '<',\n",
       " '=',\n",
       " '>',\n",
       " '?',\n",
       " '@',\n",
       " '[',\n",
       " '\\\\',\n",
       " ']',\n",
       " '^',\n",
       " '_',\n",
       " '`',\n",
       " 'a',\n",
       " 'b',\n",
       " 'c',\n",
       " 'd',\n",
       " 'e',\n",
       " 'f',\n",
       " 'g',\n",
       " 'h',\n",
       " 'i',\n",
       " 'j',\n",
       " 'k',\n",
       " 'l',\n",
       " 'm',\n",
       " 'n',\n",
       " 'o',\n",
       " 'p',\n",
       " 'q',\n",
       " 'r',\n",
       " 's',\n",
       " 't',\n",
       " 'u',\n",
       " 'v',\n",
       " 'w',\n",
       " 'x',\n",
       " 'y',\n",
       " 'z',\n",
       " '{',\n",
       " '|',\n",
       " '}',\n",
       " '~',\n",
       " 'accept',\n",
       " 'add',\n",
       " 'alt',\n",
       " 'altleft',\n",
       " 'altright',\n",
       " 'apps',\n",
       " 'backspace',\n",
       " 'browserback',\n",
       " 'browserfavorites',\n",
       " 'browserforward',\n",
       " 'browserhome',\n",
       " 'browserrefresh',\n",
       " 'browsersearch',\n",
       " 'browserstop',\n",
       " 'capslock',\n",
       " 'clear',\n",
       " 'convert',\n",
       " 'ctrl',\n",
       " 'ctrlleft',\n",
       " 'ctrlright',\n",
       " 'decimal',\n",
       " 'del',\n",
       " 'delete',\n",
       " 'divide',\n",
       " 'down',\n",
       " 'end',\n",
       " 'enter',\n",
       " 'esc',\n",
       " 'escape',\n",
       " 'execute',\n",
       " 'f1',\n",
       " 'f10',\n",
       " 'f11',\n",
       " 'f12',\n",
       " 'f13',\n",
       " 'f14',\n",
       " 'f15',\n",
       " 'f16',\n",
       " 'f17',\n",
       " 'f18',\n",
       " 'f19',\n",
       " 'f2',\n",
       " 'f20',\n",
       " 'f21',\n",
       " 'f22',\n",
       " 'f23',\n",
       " 'f24',\n",
       " 'f3',\n",
       " 'f4',\n",
       " 'f5',\n",
       " 'f6',\n",
       " 'f7',\n",
       " 'f8',\n",
       " 'f9',\n",
       " 'final',\n",
       " 'fn',\n",
       " 'hanguel',\n",
       " 'hangul',\n",
       " 'hanja',\n",
       " 'help',\n",
       " 'home',\n",
       " 'insert',\n",
       " 'junja',\n",
       " 'kana',\n",
       " 'kanji',\n",
       " 'launchapp1',\n",
       " 'launchapp2',\n",
       " 'launchmail',\n",
       " 'launchmediaselect',\n",
       " 'left',\n",
       " 'modechange',\n",
       " 'multiply',\n",
       " 'nexttrack',\n",
       " 'nonconvert',\n",
       " 'num0',\n",
       " 'num1',\n",
       " 'num2',\n",
       " 'num3',\n",
       " 'num4',\n",
       " 'num5',\n",
       " 'num6',\n",
       " 'num7',\n",
       " 'num8',\n",
       " 'num9',\n",
       " 'numlock',\n",
       " 'pagedown',\n",
       " 'pageup',\n",
       " 'pause',\n",
       " 'pgdn',\n",
       " 'pgup',\n",
       " 'playpause',\n",
       " 'prevtrack',\n",
       " 'print',\n",
       " 'printscreen',\n",
       " 'prntscrn',\n",
       " 'prtsc',\n",
       " 'prtscr',\n",
       " 'return',\n",
       " 'right',\n",
       " 'scrolllock',\n",
       " 'select',\n",
       " 'separator',\n",
       " 'shift',\n",
       " 'shiftleft',\n",
       " 'shiftright',\n",
       " 'sleep',\n",
       " 'space',\n",
       " 'stop',\n",
       " 'subtract',\n",
       " 'tab',\n",
       " 'up',\n",
       " 'volumedown',\n",
       " 'volumemute',\n",
       " 'volumeup',\n",
       " 'win',\n",
       " 'winleft',\n",
       " 'winright',\n",
       " 'yen',\n",
       " 'command',\n",
       " 'option',\n",
       " 'optionleft',\n",
       " 'optionright']"
      ]
     },
     "execution_count": 21,
     "metadata": {},
     "output_type": "execute_result"
    }
   ],
   "source": [
    "pyautogui.KEY_NAMES"
   ]
  },
  {
   "cell_type": "code",
   "execution_count": 23,
   "metadata": {},
   "outputs": [],
   "source": [
    "pyautogui.press('prevtrack')"
   ]
  },
  {
   "cell_type": "code",
   "execution_count": 48,
   "metadata": {},
   "outputs": [],
   "source": [
    "def toggle_media_playback():\n",
    "    applescript_code = \"\"\"\n",
    "    tell application \"System Events\"\n",
    "        if (name of processes) contains \"Music\" then\n",
    "            tell application \"Music\" to playpause\n",
    "        else if (name of processes) contains \"Spotify\" then\n",
    "            tell application \"Spotify\" to playpause\n",
    "        else\n",
    "            display dialog \"No supported media player found.\"\n",
    "        end if\n",
    "    end tell\n",
    "    \"\"\"\n",
    "    subprocess.run([\"osascript\", \"-e\", applescript_code])\n"
   ]
  },
  {
   "cell_type": "code",
   "execution_count": 50,
   "metadata": {},
   "outputs": [],
   "source": [
    "toggle_media_playback()"
   ]
  },
  {
   "cell_type": "code",
   "execution_count": 55,
   "metadata": {},
   "outputs": [],
   "source": [
    "def toggle_chrome_playback():\n",
    "    applescript_code = \"\"\"\n",
    "    tell application \"System Events\"\n",
    "        if (name of processes) contains \"Google Chrome\" then\n",
    "            tell application \"Google Chrome\" to playpause\n",
    "        end if\n",
    "    end tell\n",
    "    \"\"\"\n",
    "    subprocess.run([\"osascript\", \"-e\", applescript_code])\n"
   ]
  },
  {
   "cell_type": "code",
   "execution_count": 56,
   "metadata": {},
   "outputs": [
    {
     "name": "stderr",
     "output_type": "stream",
     "text": [
      "147:156: execution error: The variable playpause is not defined. (-2753)\n"
     ]
    }
   ],
   "source": [
    "toggle_chrome_playback()"
   ]
  },
  {
   "cell_type": "code",
   "execution_count": null,
   "metadata": {},
   "outputs": [],
   "source": [
    "def check_and_toggle_playback():\n",
    "    # Get a list of running applications\n",
    "    active_apps = subprocess.check_output([\"osascript\", \"-e\", 'tell application \"System Events\" to get the name of every process whose background only is false']).decode(\"utf-8\").split(\", \")\n",
    "    print(\"hi\")\n",
    "    for app_name in active_apps:\n",
    "        # Construct an AppleScript command to check if the application supports play/pause\n",
    "        applescript_code = f'tell application \"{app_name}\" to if exists (playpause) then return true else return false'\n",
    "        print(\"hi\")\n",
    "        # Run the AppleScript to check if the application supports play/pause\n",
    "        result = subprocess.run([\"osascript\", \"-e\", applescript_code], stdout=subprocess.PIPE, stderr=subprocess.PIPE, text=True)\n",
    "        \n",
    "        if result.returncode == 0 and result.stdout.strip() == \"true\":\n",
    "            # If the application supports play/pause, activate it\n",
    "            subprocess.run([\"osascript\", \"-e\", f'tell application \"{app_name}\" to activate'])\n",
    "            time.sleep(1)  # Optional delay for visibility"
   ]
  },
  {
   "cell_type": "code",
   "execution_count": 61,
   "metadata": {},
   "outputs": [
    {
     "name": "stdout",
     "output_type": "stream",
     "text": [
      "hi\n"
     ]
    },
    {
     "ename": "KeyboardInterrupt",
     "evalue": "",
     "output_type": "error",
     "traceback": [
      "\u001b[0;31m---------------------------------------------------------------------------\u001b[0m",
      "\u001b[0;31mKeyboardInterrupt\u001b[0m                         Traceback (most recent call last)",
      "\u001b[1;32m/Users/reetinav/PIC16B/project/test.ipynb Cell 29\u001b[0m line \u001b[0;36m1\n\u001b[0;32m----> <a href='vscode-notebook-cell:/Users/reetinav/PIC16B/project/test.ipynb#X40sZmlsZQ%3D%3D?line=0'>1</a>\u001b[0m check_and_toggle_playback()\n",
      "\u001b[1;32m/Users/reetinav/PIC16B/project/test.ipynb Cell 29\u001b[0m line \u001b[0;36m1\n\u001b[1;32m      <a href='vscode-notebook-cell:/Users/reetinav/PIC16B/project/test.ipynb#X40sZmlsZQ%3D%3D?line=6'>7</a>\u001b[0m applescript_code \u001b[39m=\u001b[39m \u001b[39mf\u001b[39m\u001b[39m'\u001b[39m\u001b[39mtell application \u001b[39m\u001b[39m\"\u001b[39m\u001b[39m{\u001b[39;00mapp_name\u001b[39m}\u001b[39;00m\u001b[39m\"\u001b[39m\u001b[39m to if exists (playpause) then return true else return false\u001b[39m\u001b[39m'\u001b[39m\n\u001b[1;32m      <a href='vscode-notebook-cell:/Users/reetinav/PIC16B/project/test.ipynb#X40sZmlsZQ%3D%3D?line=8'>9</a>\u001b[0m \u001b[39m# Run the AppleScript to check if the application supports play/pause\u001b[39;00m\n\u001b[0;32m---> <a href='vscode-notebook-cell:/Users/reetinav/PIC16B/project/test.ipynb#X40sZmlsZQ%3D%3D?line=9'>10</a>\u001b[0m result \u001b[39m=\u001b[39m subprocess\u001b[39m.\u001b[39;49mrun([\u001b[39m\"\u001b[39;49m\u001b[39mosascript\u001b[39;49m\u001b[39m\"\u001b[39;49m, \u001b[39m\"\u001b[39;49m\u001b[39m-e\u001b[39;49m\u001b[39m\"\u001b[39;49m, applescript_code], stdout\u001b[39m=\u001b[39;49msubprocess\u001b[39m.\u001b[39;49mPIPE, stderr\u001b[39m=\u001b[39;49msubprocess\u001b[39m.\u001b[39;49mPIPE, text\u001b[39m=\u001b[39;49m\u001b[39mTrue\u001b[39;49;00m)\n\u001b[1;32m     <a href='vscode-notebook-cell:/Users/reetinav/PIC16B/project/test.ipynb#X40sZmlsZQ%3D%3D?line=11'>12</a>\u001b[0m \u001b[39mif\u001b[39;00m result\u001b[39m.\u001b[39mreturncode \u001b[39m==\u001b[39m \u001b[39m0\u001b[39m \u001b[39mand\u001b[39;00m result\u001b[39m.\u001b[39mstdout\u001b[39m.\u001b[39mstrip() \u001b[39m==\u001b[39m \u001b[39m\"\u001b[39m\u001b[39mtrue\u001b[39m\u001b[39m\"\u001b[39m:\n\u001b[1;32m     <a href='vscode-notebook-cell:/Users/reetinav/PIC16B/project/test.ipynb#X40sZmlsZQ%3D%3D?line=12'>13</a>\u001b[0m     \u001b[39m# If the application supports play/pause, activate it\u001b[39;00m\n\u001b[1;32m     <a href='vscode-notebook-cell:/Users/reetinav/PIC16B/project/test.ipynb#X40sZmlsZQ%3D%3D?line=13'>14</a>\u001b[0m     subprocess\u001b[39m.\u001b[39mrun([\u001b[39m\"\u001b[39m\u001b[39mosascript\u001b[39m\u001b[39m\"\u001b[39m, \u001b[39m\"\u001b[39m\u001b[39m-e\u001b[39m\u001b[39m\"\u001b[39m, \u001b[39mf\u001b[39m\u001b[39m'\u001b[39m\u001b[39mtell application \u001b[39m\u001b[39m\"\u001b[39m\u001b[39m{\u001b[39;00mapp_name\u001b[39m}\u001b[39;00m\u001b[39m\"\u001b[39m\u001b[39m to activate\u001b[39m\u001b[39m'\u001b[39m])\n",
      "File \u001b[0;32m~/anaconda3/envs/PIC16B/lib/python3.9/subprocess.py:507\u001b[0m, in \u001b[0;36mrun\u001b[0;34m(input, capture_output, timeout, check, *popenargs, **kwargs)\u001b[0m\n\u001b[1;32m    505\u001b[0m \u001b[39mwith\u001b[39;00m Popen(\u001b[39m*\u001b[39mpopenargs, \u001b[39m*\u001b[39m\u001b[39m*\u001b[39mkwargs) \u001b[39mas\u001b[39;00m process:\n\u001b[1;32m    506\u001b[0m     \u001b[39mtry\u001b[39;00m:\n\u001b[0;32m--> 507\u001b[0m         stdout, stderr \u001b[39m=\u001b[39m process\u001b[39m.\u001b[39;49mcommunicate(\u001b[39minput\u001b[39;49m, timeout\u001b[39m=\u001b[39;49mtimeout)\n\u001b[1;32m    508\u001b[0m     \u001b[39mexcept\u001b[39;00m TimeoutExpired \u001b[39mas\u001b[39;00m exc:\n\u001b[1;32m    509\u001b[0m         process\u001b[39m.\u001b[39mkill()\n",
      "File \u001b[0;32m~/anaconda3/envs/PIC16B/lib/python3.9/subprocess.py:1134\u001b[0m, in \u001b[0;36mPopen.communicate\u001b[0;34m(self, input, timeout)\u001b[0m\n\u001b[1;32m   1131\u001b[0m     endtime \u001b[39m=\u001b[39m \u001b[39mNone\u001b[39;00m\n\u001b[1;32m   1133\u001b[0m \u001b[39mtry\u001b[39;00m:\n\u001b[0;32m-> 1134\u001b[0m     stdout, stderr \u001b[39m=\u001b[39m \u001b[39mself\u001b[39;49m\u001b[39m.\u001b[39;49m_communicate(\u001b[39minput\u001b[39;49m, endtime, timeout)\n\u001b[1;32m   1135\u001b[0m \u001b[39mexcept\u001b[39;00m \u001b[39mKeyboardInterrupt\u001b[39;00m:\n\u001b[1;32m   1136\u001b[0m     \u001b[39m# https://bugs.python.org/issue25942\u001b[39;00m\n\u001b[1;32m   1137\u001b[0m     \u001b[39m# See the detailed comment in .wait().\u001b[39;00m\n\u001b[1;32m   1138\u001b[0m     \u001b[39mif\u001b[39;00m timeout \u001b[39mis\u001b[39;00m \u001b[39mnot\u001b[39;00m \u001b[39mNone\u001b[39;00m:\n",
      "File \u001b[0;32m~/anaconda3/envs/PIC16B/lib/python3.9/subprocess.py:1995\u001b[0m, in \u001b[0;36mPopen._communicate\u001b[0;34m(self, input, endtime, orig_timeout)\u001b[0m\n\u001b[1;32m   1988\u001b[0m     \u001b[39mself\u001b[39m\u001b[39m.\u001b[39m_check_timeout(endtime, orig_timeout,\n\u001b[1;32m   1989\u001b[0m                         stdout, stderr,\n\u001b[1;32m   1990\u001b[0m                         skip_check_and_raise\u001b[39m=\u001b[39m\u001b[39mTrue\u001b[39;00m)\n\u001b[1;32m   1991\u001b[0m     \u001b[39mraise\u001b[39;00m \u001b[39mRuntimeError\u001b[39;00m(  \u001b[39m# Impossible :)\u001b[39;00m\n\u001b[1;32m   1992\u001b[0m         \u001b[39m'\u001b[39m\u001b[39m_check_timeout(..., skip_check_and_raise=True) \u001b[39m\u001b[39m'\u001b[39m\n\u001b[1;32m   1993\u001b[0m         \u001b[39m'\u001b[39m\u001b[39mfailed to raise TimeoutExpired.\u001b[39m\u001b[39m'\u001b[39m)\n\u001b[0;32m-> 1995\u001b[0m ready \u001b[39m=\u001b[39m selector\u001b[39m.\u001b[39;49mselect(timeout)\n\u001b[1;32m   1996\u001b[0m \u001b[39mself\u001b[39m\u001b[39m.\u001b[39m_check_timeout(endtime, orig_timeout, stdout, stderr)\n\u001b[1;32m   1998\u001b[0m \u001b[39m# XXX Rewrite these to use non-blocking I/O on the file\u001b[39;00m\n\u001b[1;32m   1999\u001b[0m \u001b[39m# objects; they are no longer using C stdio!\u001b[39;00m\n",
      "File \u001b[0;32m~/anaconda3/envs/PIC16B/lib/python3.9/selectors.py:416\u001b[0m, in \u001b[0;36m_PollLikeSelector.select\u001b[0;34m(self, timeout)\u001b[0m\n\u001b[1;32m    414\u001b[0m ready \u001b[39m=\u001b[39m []\n\u001b[1;32m    415\u001b[0m \u001b[39mtry\u001b[39;00m:\n\u001b[0;32m--> 416\u001b[0m     fd_event_list \u001b[39m=\u001b[39m \u001b[39mself\u001b[39;49m\u001b[39m.\u001b[39;49m_selector\u001b[39m.\u001b[39;49mpoll(timeout)\n\u001b[1;32m    417\u001b[0m \u001b[39mexcept\u001b[39;00m \u001b[39mInterruptedError\u001b[39;00m:\n\u001b[1;32m    418\u001b[0m     \u001b[39mreturn\u001b[39;00m ready\n",
      "\u001b[0;31mKeyboardInterrupt\u001b[0m: "
     ]
    }
   ],
   "source": [
    "check_and_toggle_playback()"
   ]
  },
  {
   "cell_type": "code",
   "execution_count": 13,
   "metadata": {},
   "outputs": [],
   "source": [
    "import pynput"
   ]
  },
  {
   "cell_type": "code",
   "execution_count": 2,
   "metadata": {},
   "outputs": [],
   "source": [
    "from pynput import mouse, keyboard\n"
   ]
  },
  {
   "cell_type": "code",
   "execution_count": 4,
   "metadata": {},
   "outputs": [],
   "source": [
    "from pynput.keyboard import Key, Controller"
   ]
  },
  {
   "cell_type": "code",
   "execution_count": 5,
   "metadata": {},
   "outputs": [],
   "source": [
    "keyboard = Controller()"
   ]
  },
  {
   "cell_type": "code",
   "execution_count": 15,
   "metadata": {},
   "outputs": [
    {
     "data": {
      "text/plain": [
       "<Key.alt: <58>>"
      ]
     },
     "execution_count": 15,
     "metadata": {},
     "output_type": "execute_result"
    }
   ],
   "source": [
    "pynput.keyboard.Key.alt"
   ]
  },
  {
   "cell_type": "code",
   "execution_count": 29,
   "metadata": {},
   "outputs": [],
   "source": [
    "keyboard.press(pynput.keyboard.Key.media_previous)"
   ]
  },
  {
   "cell_type": "code",
   "execution_count": 32,
   "metadata": {},
   "outputs": [
    {
     "ename": "AttributeError",
     "evalue": "module 'applescript' has no attribute 'app'",
     "output_type": "error",
     "traceback": [
      "\u001b[0;31m---------------------------------------------------------------------------\u001b[0m",
      "\u001b[0;31mAttributeError\u001b[0m                            Traceback (most recent call last)",
      "\u001b[1;32m/Users/reetinav/PIC16B/project/test.ipynb Cell 36\u001b[0m line \u001b[0;36m3\n\u001b[1;32m      <a href='vscode-notebook-cell:/Users/reetinav/PIC16B/project/test.ipynb#X46sZmlsZQ%3D%3D?line=0'>1</a>\u001b[0m \u001b[39mimport\u001b[39;00m \u001b[39mapplescript\u001b[39;00m\n\u001b[0;32m----> <a href='vscode-notebook-cell:/Users/reetinav/PIC16B/project/test.ipynb#X46sZmlsZQ%3D%3D?line=2'>3</a>\u001b[0m app \u001b[39m=\u001b[39m applescript\u001b[39m.\u001b[39;49mapp(\u001b[39m'\u001b[39m\u001b[39miTunes\u001b[39m\u001b[39m'\u001b[39m)\n\u001b[1;32m      <a href='vscode-notebook-cell:/Users/reetinav/PIC16B/project/test.ipynb#X46sZmlsZQ%3D%3D?line=3'>4</a>\u001b[0m app\u001b[39m.\u001b[39mpause()\n",
      "\u001b[0;31mAttributeError\u001b[0m: module 'applescript' has no attribute 'app'"
     ]
    }
   ],
   "source": [
    "import applescript\n",
    "\n",
    "app = applescript.app('iTunes')\n",
    "app.pause()"
   ]
  },
  {
   "cell_type": "code",
   "execution_count": 33,
   "metadata": {},
   "outputs": [
    {
     "data": {
      "text/plain": [
       "<applescript._result.Result at 0x103b586a0>"
      ]
     },
     "execution_count": 33,
     "metadata": {},
     "output_type": "execute_result"
    }
   ],
   "source": [
    "import applescript\n",
    "\n",
    "# Create an AppleScript script to pause the media\n",
    "script = \"\"\"\n",
    "tell application \"Spotify\"\n",
    "    pause\n",
    "end tell\n",
    "\"\"\"\n",
    "\n",
    "# Run the script\n",
    "applescript.run(script)"
   ]
  },
  {
   "cell_type": "code",
   "execution_count": 49,
   "metadata": {},
   "outputs": [],
   "source": [
    "def toggle_play_pause():\n",
    "    script = \"\"\"\n",
    "    tell application \"Spotify\"\n",
    "        if it is running then\n",
    "            if player state is playing then\n",
    "                pause\n",
    "            else\n",
    "                play\n",
    "            end if\n",
    "        end if\n",
    "    end tell\n",
    "    \"\"\"\n",
    "    applescript.run(script)\n",
    "\n",
    "\n",
    "    # Execute the script to toggle play/pause\n",
    "\n",
    "# Call the function to toggle play/pause\n"
   ]
  },
  {
   "cell_type": "code",
   "execution_count": 55,
   "metadata": {},
   "outputs": [],
   "source": [
    "toggle_play_pause()"
   ]
  },
  {
   "cell_type": "code",
   "execution_count": 69,
   "metadata": {},
   "outputs": [],
   "source": [
    "def toggle_play_pause_all_media():\n",
    "    # Define a list of media applications you want to control\n",
    "    media_apps = [\"Spotify\", \"Google Chrome\", \"VLC\"]\n",
    "\n",
    "    for app_name in media_apps:\n",
    "        # Create an AppleScript script to toggle play/pause for the current app\n",
    "        toggle_script = \"\"\"\n",
    "        tell application \"{}\"\n",
    "            if it is running then\n",
    "                if player state is playing then\n",
    "                    pause\n",
    "                else\n",
    "                    play\n",
    "                end if\n",
    "            end if\n",
    "        end tell\n",
    "        \"\"\".format(app_name)\n",
    "\n",
    "        # Execute the script to toggle play/pause for the current app\n",
    "        applescript.run(toggle_script)\n",
    "\n",
    "# Call the function to toggle play/pause for all running media apps\n",
    "toggle_play_pause_all_media()"
   ]
  },
  {
   "cell_type": "code",
   "execution_count": 1,
   "metadata": {},
   "outputs": [],
   "source": [
    "import mediapipe as mp\n",
    "import cv2\n",
    "import numpy as np\n",
    "import uuid\n",
    "import os\n",
    "import time"
   ]
  },
  {
   "cell_type": "code",
   "execution_count": 2,
   "metadata": {},
   "outputs": [],
   "source": [
    "mp_drawing = mp.solutions.drawing_utils\n",
    "mp_hands = mp.solutions.hands"
   ]
  },
  {
   "cell_type": "code",
   "execution_count": 33,
   "metadata": {},
   "outputs": [
    {
     "name": "stdout",
     "output_type": "stream",
     "text": [
      "Image successfully saved at thumb.20.jpg\n",
      "Image successfully saved at thumb.21.jpg\n",
      "Image successfully saved at thumb.22.jpg\n",
      "Image successfully saved at thumb.23.jpg\n",
      "Image successfully saved at thumb.24.jpg\n",
      "Image successfully saved at thumb.25.jpg\n",
      "Image successfully saved at thumb.26.jpg\n",
      "Image successfully saved at thumb.27.jpg\n",
      "Image successfully saved at thumb.28.jpg\n",
      "Image successfully saved at thumb.29.jpg\n",
      "Image successfully saved at thumb.30.jpg\n",
      "Image successfully saved at thumb.31.jpg\n",
      "Image successfully saved at thumb.32.jpg\n",
      "Image successfully saved at thumb.33.jpg\n",
      "Image successfully saved at thumb.34.jpg\n",
      "Image successfully saved at thumb.35.jpg\n",
      "Image successfully saved at thumb.36.jpg\n",
      "Image successfully saved at thumb.37.jpg\n",
      "Image successfully saved at thumb.38.jpg\n",
      "Image successfully saved at thumb.39.jpg\n",
      "Image successfully saved at thumb.40.jpg\n",
      "Image successfully saved at thumb.41.jpg\n",
      "Image successfully saved at thumb.42.jpg\n",
      "Image successfully saved at thumb.43.jpg\n",
      "Image successfully saved at thumb.44.jpg\n",
      "Image successfully saved at thumb.45.jpg\n",
      "Image successfully saved at thumb.46.jpg\n",
      "Image successfully saved at thumb.47.jpg\n",
      "Image successfully saved at thumb.48.jpg\n",
      "Image successfully saved at thumb.49.jpg\n"
     ]
    }
   ],
   "source": [
    "cap = cv2.VideoCapture(1)\n",
    "frameCounter = 0\n",
    "prevTime = 0\n",
    "count = 20\n",
    "with mp_hands.Hands(min_detection_confidence=0.8, min_tracking_confidence=0.5, static_image_mode=False, max_num_hands=1) as hands:\n",
    "    while cap.isOpened():\n",
    "        ret, frame = cap.read()\n",
    "\n",
    "        # Detections\n",
    "        image = cv2.cvtColor(frame, cv2.COLOR_BGR2RGB) # changes from bgr to rgb since cv2 is bgr but mediapipe requires rgb\n",
    "        image.flags.writeable = False\n",
    "        results = hands.process(image) # this makes the actual detections\n",
    "        image.flags.writeable = True\n",
    "        image = cv2.cvtColor(image, cv2.COLOR_RGB2BGR)\n",
    "\n",
    "        if cv2.waitKey(1) &0xFF == ord('s'):\n",
    "            cv2.imwrite(f\"../training/thumb.{count}.jpg\", image)\n",
    "            print(f\"Image successfully saved at thumb.{count}.jpg\")\n",
    "            count += 1\n",
    "\n",
    "        # Rendering results\n",
    "        if results.multi_hand_landmarks:\n",
    "            for num, hand in enumerate(results.multi_hand_landmarks):\n",
    "                mp_drawing.draw_landmarks(image, hand, mp_hands.HAND_CONNECTIONS) # the last param lets us draw the connections\n",
    "\n",
    "        # Print fps\n",
    "        currTime = time.time()\n",
    "        fps = 1 / (currTime-prevTime)\n",
    "        prevTime = currTime\n",
    "        image = cv2.flip(image,1)\n",
    "        cv2.putText(image, f\"FPS: {fps}\", (20,70), cv2.FONT_HERSHEY_PLAIN, 3, (0, 196, 255), 2)\n",
    "\n",
    "        cv2.imshow(\"Hand Tracking\", image)\n",
    "        if cv2.waitKey(10) & 0xFF == ord('q'):\n",
    "            break\n",
    "        \n",
    "cap.release()\n",
    "cv2.destroyAllWindows()"
   ]
  },
  {
   "cell_type": "code",
   "execution_count": 7,
   "metadata": {},
   "outputs": [],
   "source": [
    "def extract_filename_without_extension(filename):\n",
    "    # Find the first occurrence of a period\n",
    "    first_period_index = filename.find('.')\n",
    "    \n",
    "    # Check if a period was found\n",
    "    if first_period_index != -1:\n",
    "        # Extract the characters before the first period\n",
    "        filename_without_extension = filename[:first_period_index]\n",
    "        return filename_without_extension\n",
    "    else:\n",
    "        # If there is no period, return the original filename\n",
    "        return filename"
   ]
  },
  {
   "cell_type": "code",
   "execution_count": 10,
   "metadata": {},
   "outputs": [
    {
     "data": {
      "text/plain": [
       "'epic'"
      ]
     },
     "execution_count": 10,
     "metadata": {},
     "output_type": "execute_result"
    }
   ],
   "source": []
  },
  {
   "cell_type": "code",
   "execution_count": null,
   "metadata": {},
   "outputs": [],
   "source": []
  }
 ],
 "metadata": {
  "kernelspec": {
   "display_name": "PIC16B",
   "language": "python",
   "name": "python3"
  },
  "language_info": {
   "codemirror_mode": {
    "name": "ipython",
    "version": 3
   },
   "file_extension": ".py",
   "mimetype": "text/x-python",
   "name": "python",
   "nbconvert_exporter": "python",
   "pygments_lexer": "ipython3",
   "version": "3.9.18"
  }
 },
 "nbformat": 4,
 "nbformat_minor": 2
}
